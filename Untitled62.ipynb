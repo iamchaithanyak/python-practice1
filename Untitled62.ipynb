{
 "cells": [
  {
   "cell_type": "markdown",
   "metadata": {},
   "source": [
    "### python program to calculate average of numbers in a list"
   ]
  },
  {
   "cell_type": "code",
   "execution_count": 3,
   "metadata": {},
   "outputs": [
    {
     "name": "stdout",
     "output_type": "stream",
     "text": [
      "5\n",
      "6\n",
      "7\n",
      "8\n",
      "9\n",
      "5\n",
      "7.0\n"
     ]
    }
   ],
   "source": [
    "n=int(input())\n",
    "a=[]\n",
    "for i in range(0,n):\n",
    "    num=int(input())\n",
    "    a.append(num)\n",
    "avg=sum(a)/n\n",
    "print(avg)"
   ]
  },
  {
   "cell_type": "markdown",
   "metadata": {},
   "source": [
    "### Python program to reverse a given number"
   ]
  },
  {
   "cell_type": "code",
   "execution_count": 7,
   "metadata": {},
   "outputs": [
    {
     "name": "stdout",
     "output_type": "stream",
     "text": [
      "2345\n",
      "Reversed number:  5432\n"
     ]
    }
   ],
   "source": [
    "n=int(input())\n",
    "s=0\n",
    "while(n>0):\n",
    "    r=n%10\n",
    "    s=s*10+r\n",
    "    n=n//10\n",
    "print(\"Reversed number: \",s)\n"
   ]
  },
  {
   "cell_type": "markdown",
   "metadata": {},
   "source": [
    "### Python program to check whether number is positive,negative or zero"
   ]
  },
  {
   "cell_type": "code",
   "execution_count": 8,
   "metadata": {},
   "outputs": [
    {
     "name": "stdout",
     "output_type": "stream",
     "text": [
      "-5\n",
      "negative\n"
     ]
    }
   ],
   "source": [
    "a=int(input())\n",
    "if(a>0):\n",
    "    print(\"positive\")\n",
    "elif(a<0):\n",
    "    print(\"negative\")\n",
    "else:\n",
    "    print(\"Zero\")"
   ]
  },
  {
   "cell_type": "markdown",
   "metadata": {},
   "source": [
    "### Python program to take marks in 5 subjects and display grade"
   ]
  },
  {
   "cell_type": "code",
   "execution_count": 9,
   "metadata": {},
   "outputs": [
    {
     "name": "stdout",
     "output_type": "stream",
     "text": [
      "85\n",
      "95\n",
      "99\n",
      "93\n",
      "100\n",
      "Grade :A\n"
     ]
    }
   ],
   "source": [
    "\n",
    "a1=int(input())\n",
    "a2=int(input())\n",
    "a3=int(input())\n",
    "a4=int(input())\n",
    "a5=int(input())\n",
    "grade=(a1+a2+a3+a4+a5)/5\n",
    "if(grade>=90):\n",
    "    print(\"Grade :A\")\n",
    "elif(grade<=90 & grade>=80):\n",
    "    print(\"Grade :B\")"
   ]
  },
  {
   "cell_type": "markdown",
   "metadata": {},
   "source": [
    "### Python program to print all numbers in range divisible by a given number"
   ]
  },
  {
   "cell_type": "code",
   "execution_count": 5,
   "metadata": {},
   "outputs": [
    {
     "name": "stdout",
     "output_type": "stream",
     "text": [
      "1\n",
      "50\n",
      "5\n",
      "5\n",
      "10\n",
      "15\n",
      "20\n",
      "25\n",
      "30\n",
      "35\n",
      "40\n",
      "45\n",
      "50\n"
     ]
    }
   ],
   "source": [
    "lowerb=int(input())\n",
    "upperb=int(input())\n",
    "x=int(input())\n",
    "for i in range(lowerb,upperb+1):\n",
    "    if(i%x==0):\n",
    "        print(i)\n",
    "    "
   ]
  },
  {
   "cell_type": "markdown",
   "metadata": {},
   "source": [
    "### Python program to read two numbers and print their quotient and remainder"
   ]
  },
  {
   "cell_type": "code",
   "execution_count": 7,
   "metadata": {},
   "outputs": [
    {
     "name": "stdout",
     "output_type": "stream",
     "text": [
      "5\n",
      "2\n",
      "2.5 1\n"
     ]
    }
   ],
   "source": [
    "num1=int(input())\n",
    "num2=int(input())\n",
    "if(num1>num2):\n",
    "    q=num1/num2\n",
    "    rem=num1%num2\n",
    "elif(num2>num1):\n",
    "    q=num2/num1\n",
    "    rem=num2%num1\n",
    "print(q,rem)"
   ]
  },
  {
   "cell_type": "markdown",
   "metadata": {},
   "source": [
    "### python program to accept three digit and print all possible combinations from the digit"
   ]
  },
  {
   "cell_type": "code",
   "execution_count": 10,
   "metadata": {},
   "outputs": [
    {
     "name": "stdout",
     "output_type": "stream",
     "text": [
      "3\n",
      "4\n",
      "5\n",
      "3 4 5\n",
      "3 5 4\n",
      "4 3 5\n",
      "4 5 3\n",
      "5 3 4\n",
      "5 4 3\n"
     ]
    }
   ],
   "source": [
    "a=int(input())\n",
    "b=int(input())\n",
    "c=int(input())\n",
    "d=[]\n",
    "d.append(a)\n",
    "d.append(b)\n",
    "d.append(c)\n",
    "for i in range(0,3):\n",
    "    for j in range(0,3):\n",
    "        for k in range(0,3):\n",
    "            if(i!=j & j!=k & k!=i):\n",
    "                print(d[i],d[j],d[k])"
   ]
  },
  {
   "cell_type": "code",
   "execution_count": 12,
   "metadata": {},
   "outputs": [
    {
     "name": "stdout",
     "output_type": "stream",
     "text": [
      "4\n",
      "6\n",
      "4 6\n",
      "6 4\n"
     ]
    }
   ],
   "source": [
    "x=int(input())\n",
    "y=int(input())\n",
    "z=[]\n",
    "z.append(x)\n",
    "z.append(y)\n",
    "for i in range(0,2):\n",
    "    for j in range(0,2):\n",
    "         if(i!=j & j!=i):\n",
    "            print(z[i],z[j])"
   ]
  },
  {
   "cell_type": "code",
   "execution_count": null,
   "metadata": {},
   "outputs": [],
   "source": []
  }
 ],
 "metadata": {
  "kernelspec": {
   "display_name": "Python 3",
   "language": "python",
   "name": "python3"
  },
  "language_info": {
   "codemirror_mode": {
    "name": "ipython",
    "version": 3
   },
   "file_extension": ".py",
   "mimetype": "text/x-python",
   "name": "python",
   "nbconvert_exporter": "python",
   "pygments_lexer": "ipython3",
   "version": "3.7.4"
  }
 },
 "nbformat": 4,
 "nbformat_minor": 2
}
